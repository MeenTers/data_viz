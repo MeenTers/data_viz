{
  "nbformat": 4,
  "nbformat_minor": 0,
  "metadata": {
    "colab": {
      "name": "Function_Loop_Condition.ipynb",
      "provenance": [],
      "authorship_tag": "ABX9TyO1it1VW8TGMnqboRZQk2mp",
      "include_colab_link": true
    },
    "kernelspec": {
      "name": "python3",
      "display_name": "Python 3"
    }
  },
  "cells": [
    {
      "cell_type": "markdown",
      "metadata": {
        "id": "view-in-github",
        "colab_type": "text"
      },
      "source": [
        "<a href=\"https://colab.research.google.com/github/MeenTers/data_viz/blob/main/Function_Loop_Condition.ipynb\" target=\"_parent\"><img src=\"https://colab.research.google.com/assets/colab-badge.svg\" alt=\"Open In Colab\"/></a>"
      ]
    },
    {
      "cell_type": "markdown",
      "metadata": {
        "id": "vyGk4Blx2fD4"
      },
      "source": [
        "## Fucntion"
      ]
    },
    {
      "cell_type": "markdown",
      "metadata": {
        "id": "xdv6v78N2jAe"
      },
      "source": [
        "Function template\r\n",
        "ทำหน้าที่รับ input มาประมวลผลออกมาเป็น output\r\n",
        "f(x) = y"
      ]
    },
    {
      "cell_type": "markdown",
      "metadata": {
        "id": "zYrzyrKM2kxR"
      },
      "source": [
        "## def คือการกำหนด function"
      ]
    },
    {
      "cell_type": "markdown",
      "metadata": {
        "id": "so79NI2f2nUK"
      },
      "source": [
        "``` python\r\n",
        " def function_name(_Input_) :\r\n",
        "    do_something with _Input_ to get _Output_\r\n",
        "    return _Output_\r\n",
        "```"
      ]
    },
    {
      "cell_type": "markdown",
      "metadata": {
        "id": "zgIfq2iM2yD1"
      },
      "source": [
        "fuction มีส่วนสำคัญ 4 ส่วน\r\n",
        "\r\n",
        "1. บอก pythonว่าเราจะเขียนฟังก์ชัน ชื่ออะไร def function_name()\r\n",
        "2. กำหนดตัวแปรที่จะเป็น input _Input_\r\n",
        "3. ส่วนประมวลผล do_something with _Input to get _Output_\r\n",
        "4. ส่วน output return _Output_"
      ]
    },
    {
      "cell_type": "markdown",
      "metadata": {
        "id": "TBqQfdcw26hH"
      },
      "source": [
        "ตัวอย่างการเขียน normal function"
      ]
    },
    {
      "cell_type": "code",
      "metadata": {
        "id": "PVwgc18w2doK"
      },
      "source": [
        "def print_name(name,surname,ID) :\r\n",
        "    st = f'ชื่อ {name} นามสกุล {surname} รหัส {ID}'\r\n",
        "    return st"
      ],
      "execution_count": null,
      "outputs": []
    },
    {
      "cell_type": "code",
      "metadata": {
        "colab": {
          "base_uri": "https://localhost:8080/"
        },
        "id": "SxBo0KX228J8",
        "outputId": "61bcf029-d31a-4ad3-bc14-99290a332f7c"
      },
      "source": [
        "print(print_name('ธนพล','ทาโยธี','613020241-3'))"
      ],
      "execution_count": null,
      "outputs": [
        {
          "output_type": "stream",
          "text": [
            "ชื่อ ธนพล นามสกุล ทาโยธี รหัส 613020241-3\n"
          ],
          "name": "stdout"
        }
      ]
    },
    {
      "cell_type": "code",
      "metadata": {
        "colab": {
          "base_uri": "https://localhost:8080/"
        },
        "id": "nPovuT822_Wk",
        "outputId": "43f097f0-e528-4351-872d-dd053b9b3223"
      },
      "source": [
        "print(print_name(name='ธนพล',surname='ทาโยธี',ID='613020241-3'))"
      ],
      "execution_count": null,
      "outputs": [
        {
          "output_type": "stream",
          "text": [
            "ชื่อ ธนพล นามสกุล ทาโยธี รหัส 613020241-3\n"
          ],
          "name": "stdout"
        }
      ]
    },
    {
      "cell_type": "markdown",
      "metadata": {
        "id": "fJ-zN5Pv3CaR"
      },
      "source": [
        "เราใช้เว้นวรรค (indent) เพื่อบอกขอบเขตของโปรแกรม"
      ]
    },
    {
      "cell_type": "code",
      "metadata": {
        "id": "jtyOfdZg3Ar9"
      },
      "source": [
        "def print_name2(name,surname,ID) :\r\n",
        "    st = f'ชื่อ {name} นามสกุล {surname} รหัส {ID}'\r\n",
        "    print(st)"
      ],
      "execution_count": null,
      "outputs": []
    },
    {
      "cell_type": "code",
      "metadata": {
        "colab": {
          "base_uri": "https://localhost:8080/"
        },
        "id": "uEPRmqUt3ENV",
        "outputId": "ac3a48ff-7b74-42a7-fadf-a2d2db83de56"
      },
      "source": [
        "print_name2('ธนพล','ทาโยธี','613020241-3')"
      ],
      "execution_count": null,
      "outputs": [
        {
          "output_type": "stream",
          "text": [
            "ชื่อ ธนพล นามสกุล ทาโยธี รหัส 613020241-3\n"
          ],
          "name": "stdout"
        }
      ]
    },
    {
      "cell_type": "markdown",
      "metadata": {
        "id": "3QDYrwDL3Hq5"
      },
      "source": [
        "ฟังก์ชันไม่จำเป็นต้องมี input"
      ]
    },
    {
      "cell_type": "code",
      "metadata": {
        "id": "qEac17rw3Fwp"
      },
      "source": [
        "def Pi() :\r\n",
        "    return 3.14159265359"
      ],
      "execution_count": null,
      "outputs": []
    },
    {
      "cell_type": "code",
      "metadata": {
        "colab": {
          "base_uri": "https://localhost:8080/"
        },
        "id": "RXBE6xzT3JPb",
        "outputId": "5b91cb3e-2151-4588-f877-5cfa7846b3f6"
      },
      "source": [
        "Pi()*(2**2) #หาพื้นที่ของวงกลมที่มีรัศมีเท่ากับ Pi*r^2"
      ],
      "execution_count": null,
      "outputs": [
        {
          "output_type": "execute_result",
          "data": {
            "text/plain": [
              "12.56637061436"
            ]
          },
          "metadata": {
            "tags": []
          },
          "execution_count": 7
        }
      ]
    },
    {
      "cell_type": "markdown",
      "metadata": {
        "id": "BprbViHh3Ny-"
      },
      "source": [
        "เราสามารถกำหนดค่า default ให้กับฟังก์ชัน"
      ]
    },
    {
      "cell_type": "markdown",
      "metadata": {
        "id": "SSELhWnt3Pzc"
      },
      "source": [
        "input ของ function ใน python มีสองแบบ input ที่จำเป็นต้องใส่ กับ input defult จะต้องใส่ inputก่อน"
      ]
    },
    {
      "cell_type": "code",
      "metadata": {
        "id": "KcXRVRJx3Kmt"
      },
      "source": [
        "def print_default(name,surname,ID,grade='A') :\r\n",
        "    st = f'ชื่อ {name} นามสกุล {surname} รหัส {ID}'\r\n",
        "    print(st)\r\n",
        "    st2 = f'เกรดวิชา Data Viz >>> {grade}'\r\n",
        "    print(st2)"
      ],
      "execution_count": null,
      "outputs": []
    },
    {
      "cell_type": "code",
      "metadata": {
        "colab": {
          "base_uri": "https://localhost:8080/"
        },
        "id": "eiW9o0F13M50",
        "outputId": "7074c8b7-7862-428c-c9d3-d2b47455f4bc"
      },
      "source": [
        "print_default('ธนพล','ทาโยธี','613020241-3')"
      ],
      "execution_count": null,
      "outputs": [
        {
          "output_type": "stream",
          "text": [
            "ชื่อ ธนพล นามสกุล ทาโยธี รหัส 613020241-3\n",
            "เกรดวิชา Data Viz >>> A\n"
          ],
          "name": "stdout"
        }
      ]
    },
    {
      "cell_type": "markdown",
      "metadata": {
        "id": "ysiyDj6B3W1n"
      },
      "source": [
        "# Loop การวนซ้ำ"
      ]
    },
    {
      "cell_type": "markdown",
      "metadata": {
        "id": "tb5Nown83Zbw"
      },
      "source": [
        "for เป็นคำที่ใช้บอก pythonว่า เรากำลังเขียน loop โดย for จะวนดึงสมาชิกจาก ```listA``` มาทำ process de_somethimg"
      ]
    },
    {
      "cell_type": "markdown",
      "metadata": {
        "id": "mKayxXfe3eOT"
      },
      "source": [
        "คำสั่ง for เป็นคำสั่งวนซ้ำที่ใช้ควบคุมการทำงานซ้ำๆในตำนวนรอบที่แน่นอน"
      ]
    },
    {
      "cell_type": "code",
      "metadata": {
        "colab": {
          "base_uri": "https://localhost:8080/"
        },
        "id": "jxuec2ZB3Tjj",
        "outputId": "3c9a86c6-e9b5-4475-a1f8-c8f9d6e4afc9"
      },
      "source": [
        "for i in [1,2,3] :\r\n",
        "    o = i**2\r\n",
        "    print (f'This member = {i} after process = {o}')"
      ],
      "execution_count": null,
      "outputs": [
        {
          "output_type": "stream",
          "text": [
            "This member = 1 after process = 1\n",
            "This member = 2 after process = 4\n",
            "This member = 3 after process = 9\n"
          ],
          "name": "stdout"
        }
      ]
    },
    {
      "cell_type": "markdown",
      "metadata": {
        "id": "oJgQkkb2V37a"
      },
      "source": [
        "### ตัวอย่างการใช้คำสั่ง for ในการวนซ้ำค่าของ i เมื่อ i คือ 'Thanapong' และคำสั่ง print(f'{i} -> /') เพื่อกำหนดให้ผลลัพธ์แสดงสัญลักษณ์ -> / จากนั้นเพิ่มคำสั่ง print(' ') อีกครั้งเพื่อให้ผลลัพธ์มีการเว้นวรรค"
      ]
    },
    {
      "cell_type": "code",
      "metadata": {
        "id": "Gd1BPpr63fvh",
        "colab": {
          "base_uri": "https://localhost:8080/"
        },
        "outputId": "35e23c64-6610-4970-9e3a-4e50f92cf618"
      },
      "source": [
        "for i in 'Thanapon':\r\n",
        "    print(f'{i} -> / ' )\r\n",
        "    print('  ')"
      ],
      "execution_count": null,
      "outputs": [
        {
          "output_type": "stream",
          "text": [
            "T -> / \n",
            "  \n",
            "h -> / \n",
            "  \n",
            "a -> / \n",
            "  \n",
            "n -> / \n",
            "  \n",
            "a -> / \n",
            "  \n",
            "p -> / \n",
            "  \n",
            "o -> / \n",
            "  \n",
            "n -> / \n",
            "  \n"
          ],
          "name": "stdout"
        }
      ]
    },
    {
      "cell_type": "code",
      "metadata": {
        "id": "aXfaX5H9WT8V",
        "colab": {
          "base_uri": "https://localhost:8080/"
        },
        "outputId": "79b6a1ae-3f6d-46d0-91a1-92dd447f3e67"
      },
      "source": [
        "for i in 'Thanapon':\r\n",
        "    print(f'{i} -> / ' ,end='') #สั่งให้printไม่เว้นบรรทัด"
      ],
      "execution_count": null,
      "outputs": [
        {
          "output_type": "stream",
          "text": [
            "T -> / h -> / a -> / n -> / a -> / p -> / o -> / n -> / "
          ],
          "name": "stdout"
        }
      ]
    },
    {
      "cell_type": "code",
      "metadata": {
        "id": "hTBp_COrW29V",
        "colab": {
          "base_uri": "https://localhost:8080/"
        },
        "outputId": "82086ddc-25bc-4083-ede8-a399e555355d"
      },
      "source": [
        "for i in 'Thanapon':\r\n",
        "    print(f'{i} -> / ' ,end=',') #สั่งให้printไม่เว้นบรรทัด"
      ],
      "execution_count": null,
      "outputs": [
        {
          "output_type": "stream",
          "text": [
            "T -> / ,h -> / ,a -> / ,n -> / ,a -> / ,p -> / ,o -> / ,n -> / ,"
          ],
          "name": "stdout"
        }
      ]
    },
    {
      "cell_type": "markdown",
      "metadata": {
        "id": "6dDBKST-XWWM"
      },
      "source": [
        "## สร้าง list ตัวเลขแบบอัตโนมัติ range()"
      ]
    },
    {
      "cell_type": "code",
      "metadata": {
        "id": "PC6TSDCLW76V",
        "colab": {
          "base_uri": "https://localhost:8080/"
        },
        "outputId": "d1668e16-1fa3-45fb-b067-82b8f0816e75"
      },
      "source": [
        "range5_output = range(5)\r\n",
        "print(list(range5_output))"
      ],
      "execution_count": null,
      "outputs": [
        {
          "output_type": "stream",
          "text": [
            "[0, 1, 2, 3, 4]\n"
          ],
          "name": "stdout"
        }
      ]
    },
    {
      "cell_type": "code",
      "metadata": {
        "id": "nRGPjn5PYEAM",
        "colab": {
          "base_uri": "https://localhost:8080/"
        },
        "outputId": "cecb97d9-75e6-4843-9f7b-0f44681e59f2"
      },
      "source": [
        "for i in range(100):\r\n",
        "    print('งง',end=' ')"
      ],
      "execution_count": null,
      "outputs": [
        {
          "output_type": "stream",
          "text": [
            "งง งง งง งง งง งง งง งง งง งง งง งง งง งง งง งง งง งง งง งง งง งง งง งง งง งง งง งง งง งง งง งง งง งง งง งง งง งง งง งง งง งง งง งง งง งง งง งง งง งง งง งง งง งง งง งง งง งง งง งง งง งง งง งง งง งง งง งง งง งง งง งง งง งง งง งง งง งง งง งง งง งง งง งง งง งง งง งง งง งง งง งง งง งง งง งง งง งง งง งง "
          ],
          "name": "stdout"
        }
      ]
    },
    {
      "cell_type": "code",
      "metadata": {
        "id": "PP0rEFxEYgrt",
        "colab": {
          "base_uri": "https://localhost:8080/"
        },
        "outputId": "2ee4309a-917c-46e3-ad4d-bcf70b31b0c9"
      },
      "source": [
        "list(range(1,11)) #เริ่มต้นเป็นวงทึบ จบเป็นวงโปร่ง [,)"
      ],
      "execution_count": null,
      "outputs": [
        {
          "output_type": "execute_result",
          "data": {
            "text/plain": [
              "[1, 2, 3, 4, 5, 6, 7, 8, 9, 10]"
            ]
          },
          "metadata": {
            "tags": []
          },
          "execution_count": 12
        }
      ]
    },
    {
      "cell_type": "code",
      "metadata": {
        "id": "raQdJZ3yY-qx",
        "colab": {
          "base_uri": "https://localhost:8080/"
        },
        "outputId": "415d0124-afa3-445a-9d7b-0f4e8afd23b8"
      },
      "source": [
        "list(range(-3,20,4))"
      ],
      "execution_count": null,
      "outputs": [
        {
          "output_type": "execute_result",
          "data": {
            "text/plain": [
              "[-3, 1, 5, 9, 13, 17]"
            ]
          },
          "metadata": {
            "tags": []
          },
          "execution_count": 13
        }
      ]
    },
    {
      "cell_type": "markdown",
      "metadata": {
        "id": "vzAfKmomc_Yz"
      },
      "source": [
        "# Loop in Loop"
      ]
    },
    {
      "cell_type": "markdown",
      "metadata": {
        "id": "ChkKgeQYdDF1"
      },
      "source": [
        "## สามารถใช้ for loop ซ้อนกันสองรอบได้"
      ]
    },
    {
      "cell_type": "code",
      "metadata": {
        "id": "ETk1Gav6ck5d",
        "colab": {
          "base_uri": "https://localhost:8080/"
        },
        "outputId": "6919e502-cf76-4cfc-80f5-6a83a88c7e6d"
      },
      "source": [
        "for i in range(2,5):\r\n",
        "    print(f'now i = {i}')\r\n",
        "    for j in range(1,13):\r\n",
        "        print(i,' x ',j,'=',i*j)\r\n",
        "    print(f'The inner loop is end')"
      ],
      "execution_count": null,
      "outputs": [
        {
          "output_type": "stream",
          "text": [
            "now i = 2\n",
            "2  x  1 = 2\n",
            "2  x  2 = 4\n",
            "2  x  3 = 6\n",
            "2  x  4 = 8\n",
            "2  x  5 = 10\n",
            "2  x  6 = 12\n",
            "2  x  7 = 14\n",
            "2  x  8 = 16\n",
            "2  x  9 = 18\n",
            "2  x  10 = 20\n",
            "2  x  11 = 22\n",
            "2  x  12 = 24\n",
            "The inner loop is end\n",
            "now i = 3\n",
            "3  x  1 = 3\n",
            "3  x  2 = 6\n",
            "3  x  3 = 9\n",
            "3  x  4 = 12\n",
            "3  x  5 = 15\n",
            "3  x  6 = 18\n",
            "3  x  7 = 21\n",
            "3  x  8 = 24\n",
            "3  x  9 = 27\n",
            "3  x  10 = 30\n",
            "3  x  11 = 33\n",
            "3  x  12 = 36\n",
            "The inner loop is end\n",
            "now i = 4\n",
            "4  x  1 = 4\n",
            "4  x  2 = 8\n",
            "4  x  3 = 12\n",
            "4  x  4 = 16\n",
            "4  x  5 = 20\n",
            "4  x  6 = 24\n",
            "4  x  7 = 28\n",
            "4  x  8 = 32\n",
            "4  x  9 = 36\n",
            "4  x  10 = 40\n",
            "4  x  11 = 44\n",
            "4  x  12 = 48\n",
            "The inner loop is end\n"
          ],
          "name": "stdout"
        }
      ]
    },
    {
      "cell_type": "markdown",
      "metadata": {
        "id": "OB7dX8nzfHIq"
      },
      "source": [
        "# Loop in fucntion"
      ]
    },
    {
      "cell_type": "code",
      "metadata": {
        "id": "aMLGY7WHd5gw"
      },
      "source": [
        "list_friends = ['jett','omen','cypher','reyna','killjoy']"
      ],
      "execution_count": null,
      "outputs": []
    },
    {
      "cell_type": "code",
      "metadata": {
        "id": "ROC04719fuZe"
      },
      "source": [
        "def print_feelings(I,friends,feeling ='Kill'):\r\n",
        "    for friend in friends :\r\n",
        "        print(f'{I} {feeling} {friend}')"
      ],
      "execution_count": null,
      "outputs": []
    },
    {
      "cell_type": "code",
      "metadata": {
        "id": "EB5XPHoigPrx",
        "colab": {
          "base_uri": "https://localhost:8080/"
        },
        "outputId": "d66f15da-ee49-4239-f3f3-dc75678f9711"
      },
      "source": [
        "print_feelings('Sky',list_friends)"
      ],
      "execution_count": null,
      "outputs": [
        {
          "output_type": "stream",
          "text": [
            "Sky Kill jett\n",
            "Sky Kill omen\n",
            "Sky Kill cypher\n",
            "Sky Kill reyna\n",
            "Sky Kill killjoy\n"
          ],
          "name": "stdout"
        }
      ]
    },
    {
      "cell_type": "markdown",
      "metadata": {
        "id": "pwLurXYHkFtJ"
      },
      "source": [
        "# Condition คือ เงื่อนไข/ประโยคเงื่อนไข"
      ]
    },
    {
      "cell_type": "markdown",
      "metadata": {
        "id": "YoDPazZAkMZI"
      },
      "source": [
        "\r\n",
        "#### if condition1 :\r\n",
        "####   do something\r\n",
        "#### elif condition2 : #elif คือ else if\r\n",
        "####   do another thing\r\n",
        "#### else :\r\n",
        "####   do "
      ]
    },
    {
      "cell_type": "code",
      "metadata": {
        "id": "lCaRoFXYgV4V",
        "colab": {
          "base_uri": "https://localhost:8080/"
        },
        "outputId": "6842cae6-475e-4837-98a2-836a233f1eab"
      },
      "source": [
        "for name1 in list_friends :\r\n",
        "    for name2 in list_friends :\r\n",
        "        print(name1, 'Killed' , name2)"
      ],
      "execution_count": null,
      "outputs": [
        {
          "output_type": "stream",
          "text": [
            "jett Killed jett\n",
            "jett Killed omen\n",
            "jett Killed cypher\n",
            "jett Killed reyna\n",
            "jett Killed killjoy\n",
            "omen Killed jett\n",
            "omen Killed omen\n",
            "omen Killed cypher\n",
            "omen Killed reyna\n",
            "omen Killed killjoy\n",
            "cypher Killed jett\n",
            "cypher Killed omen\n",
            "cypher Killed cypher\n",
            "cypher Killed reyna\n",
            "cypher Killed killjoy\n",
            "reyna Killed jett\n",
            "reyna Killed omen\n",
            "reyna Killed cypher\n",
            "reyna Killed reyna\n",
            "reyna Killed killjoy\n",
            "killjoy Killed jett\n",
            "killjoy Killed omen\n",
            "killjoy Killed cypher\n",
            "killjoy Killed reyna\n",
            "killjoy Killed killjoy\n"
          ],
          "name": "stdout"
        }
      ]
    },
    {
      "cell_type": "code",
      "metadata": {
        "id": "fYf_iuEOlZiH",
        "colab": {
          "base_uri": "https://localhost:8080/"
        },
        "outputId": "2d6a6296-8309-413c-ba1b-bd51f137cf42"
      },
      "source": [
        "for name1 in list_friends :\r\n",
        "    for name2 in list_friends :\r\n",
        "        if name1 != name2 :#ไม่ปริ้นชื่อเดียวกันซ้ำ\r\n",
        "           print(name1, 'Killed' , name2,)"
      ],
      "execution_count": null,
      "outputs": [
        {
          "output_type": "stream",
          "text": [
            "jett Killed omen\n",
            "jett Killed cypher\n",
            "jett Killed reyna\n",
            "jett Killed killjoy\n",
            "omen Killed jett\n",
            "omen Killed cypher\n",
            "omen Killed reyna\n",
            "omen Killed killjoy\n",
            "cypher Killed jett\n",
            "cypher Killed omen\n",
            "cypher Killed reyna\n",
            "cypher Killed killjoy\n",
            "reyna Killed jett\n",
            "reyna Killed omen\n",
            "reyna Killed cypher\n",
            "reyna Killed killjoy\n",
            "killjoy Killed jett\n",
            "killjoy Killed omen\n",
            "killjoy Killed cypher\n",
            "killjoy Killed reyna\n"
          ],
          "name": "stdout"
        }
      ]
    },
    {
      "cell_type": "code",
      "metadata": {
        "id": "sKT3oOullp98",
        "colab": {
          "base_uri": "https://localhost:8080/"
        },
        "outputId": "ece9fe70-c171-4fb2-9bd8-8ee05c85e9dc"
      },
      "source": [
        "for name1 in list_friends :\r\n",
        "    for name2 in list_friends :\r\n",
        "        if name1 == name2 :#ปริ้นชื่อเดียวกันซ้ำ\r\n",
        "           print(name1, 'Killed' , name2,)"
      ],
      "execution_count": null,
      "outputs": [
        {
          "output_type": "stream",
          "text": [
            "jett Killed jett\n",
            "omen Killed omen\n",
            "cypher Killed cypher\n",
            "reyna Killed reyna\n",
            "killjoy Killed killjoy\n"
          ],
          "name": "stdout"
        }
      ]
    },
    {
      "cell_type": "code",
      "metadata": {
        "id": "Aqe36ko3mBEN",
        "colab": {
          "base_uri": "https://localhost:8080/"
        },
        "outputId": "c3baef60-1c0e-4c6a-fa80-75b7f37be013"
      },
      "source": [
        "for name1 in list_friends :\r\n",
        "    for name2 in list_friends :\r\n",
        "        if name1 == name2 :#ไม่ปริ้นชื่อเดียวกันซ้ำ\r\n",
        "           'do nothing'\r\n",
        "        else:\r\n",
        "           print(name1, 'Killed' , name2,)"
      ],
      "execution_count": null,
      "outputs": [
        {
          "output_type": "stream",
          "text": [
            "jett Killed omen\n",
            "jett Killed cypher\n",
            "jett Killed reyna\n",
            "jett Killed killjoy\n",
            "omen Killed jett\n",
            "omen Killed cypher\n",
            "omen Killed reyna\n",
            "omen Killed killjoy\n",
            "cypher Killed jett\n",
            "cypher Killed omen\n",
            "cypher Killed reyna\n",
            "cypher Killed killjoy\n",
            "reyna Killed jett\n",
            "reyna Killed omen\n",
            "reyna Killed cypher\n",
            "reyna Killed killjoy\n",
            "killjoy Killed jett\n",
            "killjoy Killed omen\n",
            "killjoy Killed cypher\n",
            "killjoy Killed reyna\n"
          ],
          "name": "stdout"
        }
      ]
    },
    {
      "cell_type": "markdown",
      "metadata": {
        "id": "Y-l4ymUrmts4"
      },
      "source": [
        "Condition syntex (==,!=,>=,<=,>,<)"
      ]
    },
    {
      "cell_type": "code",
      "metadata": {
        "id": "wQxuf6CwmetW",
        "colab": {
          "base_uri": "https://localhost:8080/"
        },
        "outputId": "79a1ce96-c828-4d3d-ea14-21b4fd6d7616"
      },
      "source": [
        "'jett' == 'omen'"
      ],
      "execution_count": null,
      "outputs": [
        {
          "output_type": "execute_result",
          "data": {
            "text/plain": [
              "False"
            ]
          },
          "metadata": {
            "tags": []
          },
          "execution_count": 49
        }
      ]
    },
    {
      "cell_type": "code",
      "metadata": {
        "id": "DSzGCeHlnJT8",
        "colab": {
          "base_uri": "https://localhost:8080/"
        },
        "outputId": "268d90ba-f542-416c-f074-0971be680cbe"
      },
      "source": [
        "'jett' != 'omen'"
      ],
      "execution_count": null,
      "outputs": [
        {
          "output_type": "execute_result",
          "data": {
            "text/plain": [
              "True"
            ]
          },
          "metadata": {
            "tags": []
          },
          "execution_count": 50
        }
      ]
    },
    {
      "cell_type": "markdown",
      "metadata": {
        "id": "WGSl1UKlnPUW"
      },
      "source": [
        "หากหลังมีเงื่อนไข True"
      ]
    },
    {
      "cell_type": "code",
      "metadata": {
        "id": "B9duur0CnMNJ",
        "colab": {
          "base_uri": "https://localhost:8080/"
        },
        "outputId": "6719d6b8-7a64-4f36-8827-d7f5679cbf3c"
      },
      "source": [
        "if True :\r\n",
        "   print('Yes')\r\n",
        "else :\r\n",
        "   print('No')"
      ],
      "execution_count": null,
      "outputs": [
        {
          "output_type": "stream",
          "text": [
            "Yes\n"
          ],
          "name": "stdout"
        }
      ]
    },
    {
      "cell_type": "markdown",
      "metadata": {
        "id": "PCJYc6ebnrmx"
      },
      "source": [
        "## HW\r\n",
        "### เขียน function ตัดเกรด โดยที่ iputเป็นคะแนน(0-100) ,output เป็นเกรด (F-A)\r\n",
        "### วนลูป input [1,50,65,90,101,-5,49]"
      ]
    },
    {
      "cell_type": "code",
      "metadata": {
        "id": "I4qA9A8bncnK"
      },
      "source": [
        "def GPA(score) :\r\n",
        "    if score > 100 :\r\n",
        "       print(f'Error')\r\n",
        "    elif score > 79 :\r\n",
        "       print(f'คะแนนที่ได้คือ {score} เกรดที่ได้คือ A')\r\n",
        "    elif 74 < score < 79  :\r\n",
        "       print(f'คะแนนที่ได้คือ {score} เกรดที่ได้คือ B+')\r\n",
        "    elif 69 < score < 74  :\r\n",
        "       print(f'คะแนนที่ได้คือ {score} เกรดที่ได้คือ B')\r\n",
        "    elif 64 < score < 69 :\r\n",
        "       print(f'คะแนนที่ได้คือ {score} เกรดที่ได้คือ C+')\r\n",
        "    elif 59 < score < 64 :\r\n",
        "       print(f'คะแนนที่ได้คือ {score} เกรดที่ได้คือ C')\r\n",
        "    elif 54 < score < 59 :\r\n",
        "       print(f'คะแนนที่ได้คือ {score} เกรดที่ได้คือ D+')\r\n",
        "    elif 44< score < 54 :\r\n",
        "       print(f'คะแนนที่ได้คือ {score} เกรดที่ได้คือ D')\r\n",
        "    elif 0 < score <= 44 :\r\n",
        "       print(f'คะแนนที่ได้คือ {score} เกรดที่ได้คือ F')\r\n",
        "    elif score < 0 :\r\n",
        "       print(f'Error')\r\n",
        "    \r\n",
        "        \r\n",
        "       "
      ],
      "execution_count": 18,
      "outputs": []
    },
    {
      "cell_type": "code",
      "metadata": {
        "id": "b5bm8MeEVosh"
      },
      "source": [
        "list_gpa = [1,50,65,90,101,-5,49]"
      ],
      "execution_count": 16,
      "outputs": []
    },
    {
      "cell_type": "code",
      "metadata": {
        "id": "2S5DRq5NVvcS",
        "outputId": "733bf4e6-c679-41df-fe11-18c3a1505f9b",
        "colab": {
          "base_uri": "https://localhost:8080/"
        }
      },
      "source": [
        "for i in list_gpa :\r\n",
        "    GPA(i)"
      ],
      "execution_count": 19,
      "outputs": [
        {
          "output_type": "stream",
          "text": [
            "คะแนนที่ได้คือ 1 เกรดที่ได้คือ F\n",
            "คะแนนที่ได้คือ 50 เกรดที่ได้คือ D\n",
            "คะแนนที่ได้คือ 65 เกรดที่ได้คือ C+\n",
            "คะแนนที่ได้คือ 90 เกรดที่ได้คือ A\n",
            "Error\n",
            "Error\n",
            "คะแนนที่ได้คือ 49 เกรดที่ได้คือ D\n"
          ],
          "name": "stdout"
        }
      ]
    },
    {
      "cell_type": "code",
      "metadata": {
        "id": "lRVDd-RcXMrD"
      },
      "source": [
        ""
      ],
      "execution_count": null,
      "outputs": []
    }
  ]
}