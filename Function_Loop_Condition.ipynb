{
  "nbformat": 4,
  "nbformat_minor": 0,
  "metadata": {
    "colab": {
      "name": "Function_Loop_Condition.ipynb",
      "provenance": [],
      "authorship_tag": "ABX9TyPSmKoI4J4JPpQQvSzC+zAx",
      "include_colab_link": true
    },
    "kernelspec": {
      "name": "python3",
      "display_name": "Python 3"
    }
  },
  "cells": [
    {
      "cell_type": "markdown",
      "metadata": {
        "id": "view-in-github",
        "colab_type": "text"
      },
      "source": [
        "<a href=\"https://colab.research.google.com/github/MeenTers/data_viz/blob/main/Function_Loop_Condition.ipynb\" target=\"_parent\"><img src=\"https://colab.research.google.com/assets/colab-badge.svg\" alt=\"Open In Colab\"/></a>"
      ]
    },
    {
      "cell_type": "markdown",
      "metadata": {
        "id": "vyGk4Blx2fD4"
      },
      "source": [
        "## Fucntion"
      ]
    },
    {
      "cell_type": "markdown",
      "metadata": {
        "id": "xdv6v78N2jAe"
      },
      "source": [
        "Function template\r\n",
        "ทำหน้าที่รับ input มาประมวลผลออกมาเป็น output\r\n",
        "f(x) = y"
      ]
    },
    {
      "cell_type": "markdown",
      "metadata": {
        "id": "zYrzyrKM2kxR"
      },
      "source": [
        "## def คือการกำหนด function"
      ]
    },
    {
      "cell_type": "markdown",
      "metadata": {
        "id": "so79NI2f2nUK"
      },
      "source": [
        "``` python\r\n",
        " def function_name(_Input_) :\r\n",
        "    do_something with _Input_ to get _Output_\r\n",
        "    return _Output_\r\n",
        "```"
      ]
    },
    {
      "cell_type": "markdown",
      "metadata": {
        "id": "zgIfq2iM2yD1"
      },
      "source": [
        "fuction มีส่วนสำคัญ 4 ส่วน\r\n",
        "\r\n",
        "1. บอก pythonว่าเราจะเขียนฟังก์ชัน ชื่ออะไร def function_name()\r\n",
        "2. กำหนดตัวแปรที่จะเป็น input _Input_\r\n",
        "3. ส่วนประมวลผล do_something with _Input to get _Output_\r\n",
        "4. ส่วน output return _Output_"
      ]
    },
    {
      "cell_type": "markdown",
      "metadata": {
        "id": "TBqQfdcw26hH"
      },
      "source": [
        "ตัวอย่างการเขียน normal function"
      ]
    },
    {
      "cell_type": "code",
      "metadata": {
        "id": "PVwgc18w2doK"
      },
      "source": [
        "def print_name(name,surname,ID) :\r\n",
        "    st = f'ชื่อ {name} นามสกุล {surname} รหัส {ID}'\r\n",
        "    return st"
      ],
      "execution_count": 1,
      "outputs": []
    },
    {
      "cell_type": "code",
      "metadata": {
        "colab": {
          "base_uri": "https://localhost:8080/"
        },
        "id": "SxBo0KX228J8",
        "outputId": "61bcf029-d31a-4ad3-bc14-99290a332f7c"
      },
      "source": [
        "print(print_name('ธนพล','ทาโยธี','613020241-3'))"
      ],
      "execution_count": 2,
      "outputs": [
        {
          "output_type": "stream",
          "text": [
            "ชื่อ ธนพล นามสกุล ทาโยธี รหัส 613020241-3\n"
          ],
          "name": "stdout"
        }
      ]
    },
    {
      "cell_type": "code",
      "metadata": {
        "colab": {
          "base_uri": "https://localhost:8080/"
        },
        "id": "nPovuT822_Wk",
        "outputId": "43f097f0-e528-4351-872d-dd053b9b3223"
      },
      "source": [
        "print(print_name(name='ธนพล',surname='ทาโยธี',ID='613020241-3'))"
      ],
      "execution_count": 3,
      "outputs": [
        {
          "output_type": "stream",
          "text": [
            "ชื่อ ธนพล นามสกุล ทาโยธี รหัส 613020241-3\n"
          ],
          "name": "stdout"
        }
      ]
    },
    {
      "cell_type": "markdown",
      "metadata": {
        "id": "fJ-zN5Pv3CaR"
      },
      "source": [
        "เราใช้เว้นวรรค (indent) เพื่อบอกขอบเขตของโปรแกรม"
      ]
    },
    {
      "cell_type": "code",
      "metadata": {
        "id": "jtyOfdZg3Ar9"
      },
      "source": [
        "def print_name2(name,surname,ID) :\r\n",
        "    st = f'ชื่อ {name} นามสกุล {surname} รหัส {ID}'\r\n",
        "    print(st)"
      ],
      "execution_count": 4,
      "outputs": []
    },
    {
      "cell_type": "code",
      "metadata": {
        "colab": {
          "base_uri": "https://localhost:8080/"
        },
        "id": "uEPRmqUt3ENV",
        "outputId": "ac3a48ff-7b74-42a7-fadf-a2d2db83de56"
      },
      "source": [
        "print_name2('ธนพล','ทาโยธี','613020241-3')"
      ],
      "execution_count": 5,
      "outputs": [
        {
          "output_type": "stream",
          "text": [
            "ชื่อ ธนพล นามสกุล ทาโยธี รหัส 613020241-3\n"
          ],
          "name": "stdout"
        }
      ]
    },
    {
      "cell_type": "markdown",
      "metadata": {
        "id": "3QDYrwDL3Hq5"
      },
      "source": [
        "ฟังก์ชันไม่จำเป็นต้องมี input"
      ]
    },
    {
      "cell_type": "code",
      "metadata": {
        "id": "qEac17rw3Fwp"
      },
      "source": [
        "def Pi() :\r\n",
        "    return 3.14159265359"
      ],
      "execution_count": 6,
      "outputs": []
    },
    {
      "cell_type": "code",
      "metadata": {
        "colab": {
          "base_uri": "https://localhost:8080/"
        },
        "id": "RXBE6xzT3JPb",
        "outputId": "5b91cb3e-2151-4588-f877-5cfa7846b3f6"
      },
      "source": [
        "Pi()*(2**2) #หาพื้นที่ของวงกลมที่มีรัศมีเท่ากับ Pi*r^2"
      ],
      "execution_count": 7,
      "outputs": [
        {
          "output_type": "execute_result",
          "data": {
            "text/plain": [
              "12.56637061436"
            ]
          },
          "metadata": {
            "tags": []
          },
          "execution_count": 7
        }
      ]
    },
    {
      "cell_type": "markdown",
      "metadata": {
        "id": "BprbViHh3Ny-"
      },
      "source": [
        "เราสามารถกำหนดค่า default ให้กับฟังก์ชัน"
      ]
    },
    {
      "cell_type": "markdown",
      "metadata": {
        "id": "SSELhWnt3Pzc"
      },
      "source": [
        "input ของ function ใน python มีสองแบบ input ที่จำเป็นต้องใส่ กับ input defult จะต้องใส่ inputก่อน"
      ]
    },
    {
      "cell_type": "code",
      "metadata": {
        "id": "KcXRVRJx3Kmt"
      },
      "source": [
        "def print_default(name,surname,ID,grade='A') :\r\n",
        "    st = f'ชื่อ {name} นามสกุล {surname} รหัส {ID}'\r\n",
        "    print(st)\r\n",
        "    st2 = f'เกรดวิชา Data Viz >>> {grade}'\r\n",
        "    print(st2)"
      ],
      "execution_count": 9,
      "outputs": []
    },
    {
      "cell_type": "code",
      "metadata": {
        "colab": {
          "base_uri": "https://localhost:8080/"
        },
        "id": "eiW9o0F13M50",
        "outputId": "7074c8b7-7862-428c-c9d3-d2b47455f4bc"
      },
      "source": [
        "print_default('ธนพล','ทาโยธี','613020241-3')"
      ],
      "execution_count": 10,
      "outputs": [
        {
          "output_type": "stream",
          "text": [
            "ชื่อ ธนพล นามสกุล ทาโยธี รหัส 613020241-3\n",
            "เกรดวิชา Data Viz >>> A\n"
          ],
          "name": "stdout"
        }
      ]
    },
    {
      "cell_type": "markdown",
      "metadata": {
        "id": "ysiyDj6B3W1n"
      },
      "source": [
        "# Loop การวนซ้ำ"
      ]
    },
    {
      "cell_type": "markdown",
      "metadata": {
        "id": "tb5Nown83Zbw"
      },
      "source": [
        "for เป็นคำที่ใช้บอก pythonว่า เรากำลังเขียน loop โดย for จะวนดึงสมาชิกจาก ```listA``` มาทำ process de_somethimg"
      ]
    },
    {
      "cell_type": "markdown",
      "metadata": {
        "id": "mKayxXfe3eOT"
      },
      "source": [
        "คำสั่ง for เป็นคำสั่งวนซ้ำที่ใช้ควบคุมการทำงานซ้ำๆในตำนวนรอบที่แน่นอน"
      ]
    },
    {
      "cell_type": "code",
      "metadata": {
        "colab": {
          "base_uri": "https://localhost:8080/"
        },
        "id": "jxuec2ZB3Tjj",
        "outputId": "3c9a86c6-e9b5-4475-a1f8-c8f9d6e4afc9"
      },
      "source": [
        "for i in [1,2,3] :\r\n",
        "    o = i**2\r\n",
        "    print (f'This member = {i} after process = {o}')"
      ],
      "execution_count": 11,
      "outputs": [
        {
          "output_type": "stream",
          "text": [
            "This member = 1 after process = 1\n",
            "This member = 2 after process = 4\n",
            "This member = 3 after process = 9\n"
          ],
          "name": "stdout"
        }
      ]
    },
    {
      "cell_type": "code",
      "metadata": {
        "id": "Gd1BPpr63fvh"
      },
      "source": [
        ""
      ],
      "execution_count": null,
      "outputs": []
    }
  ]
}